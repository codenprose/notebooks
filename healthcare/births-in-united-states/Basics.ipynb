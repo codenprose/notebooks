{
 "cells": [
  {
   "cell_type": "markdown",
   "metadata": {},
   "source": [
    "# Birth Dates in the United States\n",
    "\n",
    "The raw data behind the story Some People Are Too Superstitious To Have A Baby On Friday The 13th, which you can read [here](http://fivethirtyeight.com/features/some-people-are-too-superstitious-to-have-a-baby-on-friday-the-13th).\n",
    "\n",
    "We'll be working with the data set from the Centers for Disease Control and Prevention's National Center for Health Statistics. The data set has the following structure:\n",
    "\n",
    "- `year` - Year\n",
    "- `month` - Month\n",
    "- `date_of_month` - Day number of Month\n",
    "- `day_of_week` - Day of week, where 1 is Monday and 7 is Sunday\n",
    "- `births` - Number of births"
   ]
  },
  {
   "cell_type": "code",
   "execution_count": 1,
   "metadata": {
    "collapsed": false
   },
   "outputs": [
    {
     "name": "stdout",
     "output_type": "stream",
     "text": [
      "[[1994, 1, 1, 6, 8096], [1994, 1, 2, 7, 7772], [1994, 1, 3, 1, 10142], [1994, 1, 4, 2, 11248], [1994, 1, 5, 3, 11053], [1994, 1, 6, 4, 11406], [1994, 1, 7, 5, 11251], [1994, 1, 8, 6, 8653], [1994, 1, 9, 7, 7910], [1994, 1, 10, 1, 10498]]\n"
     ]
    }
   ],
   "source": [
    "def read_csv(file):\n",
    "    # Store file as a string\n",
    "    f = open(file).read()\n",
    "    # split each row on new line delimiter and remove header\n",
    "    string_list = f.split(\"\\n\")[1:]\n",
    "    final_list = []\n",
    "    \n",
    "    for item in string_list:\n",
    "        # split each single item into many items\n",
    "        string_fields = item.split(\",\")\n",
    "        int_fields = []\n",
    "        # convert each item into an integer\n",
    "        for item in string_fields:\n",
    "            int_fields.append(int(item))\n",
    "        final_list.append(int_fields)\n",
    "    return final_list\n",
    "\n",
    "cdc_list = read_csv(\"US_births_1994-2003_CDC_NCHS.csv\")\n",
    "print(cdc_list[0:10])"
   ]
  },
  {
   "cell_type": "code",
   "execution_count": 2,
   "metadata": {
    "collapsed": false
   },
   "outputs": [
    {
     "name": "stdout",
     "output_type": "stream",
     "text": [
      "{2000: 4058814, 2001: 4025933, 2002: 4021726, 2003: 4089950, 1994: 3952767, 1995: 3899589, 1996: 3891494, 1997: 3880894, 1998: 3941553, 1999: 3959417}\n"
     ]
    }
   ],
   "source": [
    "def calc_counts(data, column):\n",
    "    totals = dict()\n",
    "    for item in data:\n",
    "        births = item[4]\n",
    "        target = item[column]\n",
    "        if target in totals:\n",
    "            totals[target] += births\n",
    "        else:\n",
    "            totals[target] = births\n",
    "    return totals\n",
    "\n",
    "cdc_year_births = calc_counts(cdc_list, 0)\n",
    "print(cdc_year_births)"
   ]
  },
  {
   "cell_type": "code",
   "execution_count": 3,
   "metadata": {
    "collapsed": false
   },
   "outputs": [
    {
     "name": "stdout",
     "output_type": "stream",
     "text": [
      "{'max': 4089950, 'min': 3952767}\n"
     ]
    }
   ],
   "source": [
    "def min_max_dict(data):\n",
    "    min_value = min(item for item in data)\n",
    "    max_value = max(item for item in data)\n",
    "    return {\n",
    "        'min': data[min_value],\n",
    "        'max': data[max_value]\n",
    "    }\n",
    "\n",
    "cdc_year_births_min_max = min_max_dict(cdc_year_births)\n",
    "print(cdc_year_births_min_max)"
   ]
  },
  {
   "cell_type": "code",
   "execution_count": null,
   "metadata": {
    "collapsed": true
   },
   "outputs": [],
   "source": []
  }
 ],
 "metadata": {
  "anaconda-cloud": {},
  "kernelspec": {
   "display_name": "Python 3",
   "language": "python",
   "name": "python3"
  },
  "language_info": {
   "codemirror_mode": {
    "name": "ipython",
    "version": 3
   },
   "file_extension": ".py",
   "mimetype": "text/x-python",
   "name": "python",
   "nbconvert_exporter": "python",
   "pygments_lexer": "ipython3",
   "version": "3.5.2"
  }
 },
 "nbformat": 4,
 "nbformat_minor": 1
}
